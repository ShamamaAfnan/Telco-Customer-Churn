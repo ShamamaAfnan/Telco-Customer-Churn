{
 "cells": [
  {
   "cell_type": "code",
   "execution_count": 1,
   "id": "ec087f93",
   "metadata": {},
   "outputs": [],
   "source": [
    "import numpy as np\n",
    "import pandas as pd\n",
    "\n",
    "from sklearn.preprocessing import StandardScaler\n",
    "from sklearn.preprocessing import LabelEncoder\n",
    "\n",
    "from sklearn.model_selection import train_test_split\n",
    "from sklearn.tree import DecisionTreeClassifier\n",
    "from sklearn.ensemble import RandomForestClassifier\n",
    "\n",
    "from sklearn.linear_model import LogisticRegression\n",
    "import statsmodels.api as sm\n",
    "\n",
    "from sklearn.metrics import accuracy_score,plot_confusion_matrix,classification_report"
   ]
  },
  {
   "cell_type": "code",
   "execution_count": 2,
   "id": "5c3333c3",
   "metadata": {},
   "outputs": [],
   "source": [
    "df = pd.read_excel('CustomerChurn.xlsx')"
   ]
  },
  {
   "cell_type": "code",
   "execution_count": 3,
   "id": "ae67d918",
   "metadata": {},
   "outputs": [],
   "source": [
    "df['Total Charges'] = pd.to_numeric(df['Total Charges'], errors='coerce')\n",
    "df = df.replace(np.nan, 0, regex=True)"
   ]
  },
  {
   "cell_type": "code",
   "execution_count": 4,
   "id": "cf74cc40",
   "metadata": {},
   "outputs": [
    {
     "name": "stdout",
     "output_type": "stream",
     "text": [
      "<class 'pandas.core.frame.DataFrame'>\n",
      "RangeIndex: 7043 entries, 0 to 7042\n",
      "Data columns (total 21 columns):\n",
      " #   Column             Non-Null Count  Dtype  \n",
      "---  ------             --------------  -----  \n",
      " 0   LoyaltyID          7043 non-null   int64  \n",
      " 1   Customer ID        7043 non-null   object \n",
      " 2   Senior Citizen     7043 non-null   object \n",
      " 3   Partner            7043 non-null   object \n",
      " 4   Dependents         7043 non-null   object \n",
      " 5   Tenure             7043 non-null   int64  \n",
      " 6   Phone Service      7043 non-null   object \n",
      " 7   Multiple Lines     7043 non-null   object \n",
      " 8   Internet Service   7043 non-null   object \n",
      " 9   Online Security    7043 non-null   object \n",
      " 10  Online Backup      7043 non-null   object \n",
      " 11  Device Protection  7043 non-null   object \n",
      " 12  Tech Support       7043 non-null   object \n",
      " 13  Streaming TV       7043 non-null   object \n",
      " 14  Streaming Movies   7043 non-null   object \n",
      " 15  Contract           7043 non-null   object \n",
      " 16  Paperless Billing  7043 non-null   object \n",
      " 17  Payment Method     7043 non-null   object \n",
      " 18  Monthly Charges    7043 non-null   float64\n",
      " 19  Total Charges      7043 non-null   float64\n",
      " 20  Churn              7043 non-null   object \n",
      "dtypes: float64(2), int64(2), object(17)\n",
      "memory usage: 1.1+ MB\n"
     ]
    }
   ],
   "source": [
    "df.info()"
   ]
  },
  {
   "cell_type": "markdown",
   "id": "6b0b4e97",
   "metadata": {},
   "source": [
    "## Decision Tree"
   ]
  },
  {
   "cell_type": "code",
   "execution_count": 31,
   "id": "020ed854",
   "metadata": {},
   "outputs": [],
   "source": [
    "X = df.drop(['LoyaltyID','Customer ID','Churn',],axis=1)\n",
    "X = pd.get_dummies(X,drop_first=True)"
   ]
  },
  {
   "cell_type": "code",
   "execution_count": 6,
   "id": "2f2c442b",
   "metadata": {},
   "outputs": [],
   "source": [
    "y = df['Churn']"
   ]
  },
  {
   "cell_type": "code",
   "execution_count": 7,
   "id": "9f40b8f6",
   "metadata": {},
   "outputs": [],
   "source": [
    "X_train, X_test, y_train, y_test = train_test_split(X, y, test_size=0.1, random_state=101)"
   ]
  },
  {
   "cell_type": "code",
   "execution_count": 8,
   "id": "2df5e62b",
   "metadata": {},
   "outputs": [],
   "source": [
    "tree =  DecisionTreeClassifier(max_depth=6)"
   ]
  },
  {
   "cell_type": "code",
   "execution_count": 9,
   "id": "79a72af6",
   "metadata": {},
   "outputs": [
    {
     "data": {
      "text/plain": [
       "DecisionTreeClassifier(max_depth=6)"
      ]
     },
     "execution_count": 9,
     "metadata": {},
     "output_type": "execute_result"
    }
   ],
   "source": [
    "tree.fit(X_train,y_train)"
   ]
  },
  {
   "cell_type": "code",
   "execution_count": 11,
   "id": "c28b630f",
   "metadata": {},
   "outputs": [],
   "source": [
    "y_pred = tree.predict(X_test)"
   ]
  },
  {
   "cell_type": "code",
   "execution_count": 12,
   "id": "febdb5fb",
   "metadata": {},
   "outputs": [
    {
     "name": "stdout",
     "output_type": "stream",
     "text": [
      "              precision    recall  f1-score   support\n",
      "\n",
      "          No       0.81      0.90      0.85       505\n",
      "         Yes       0.65      0.47      0.54       200\n",
      "\n",
      "    accuracy                           0.78       705\n",
      "   macro avg       0.73      0.68      0.70       705\n",
      "weighted avg       0.76      0.78      0.76       705\n",
      "\n"
     ]
    }
   ],
   "source": [
    "print(classification_report(y_test, y_pred))"
   ]
  },
  {
   "cell_type": "code",
   "execution_count": 14,
   "id": "b8d52a6b",
   "metadata": {},
   "outputs": [
    {
     "data": {
      "text/plain": [
       "<sklearn.metrics._plot.confusion_matrix.ConfusionMatrixDisplay at 0x27489081760>"
      ]
     },
     "execution_count": 14,
     "metadata": {},
     "output_type": "execute_result"
    },
    {
     "data": {
      "image/png": "[encoded data removed]",
      "text/plain": [
       "<Figure size 432x288 with 2 Axes>"
      ]
     },
     "metadata": {
      "needs_background": "light"
     },
     "output_type": "display_data"
    }
   ],
   "source": [
    "plot_confusion_matrix(tree,X_test,y_test)"
   ]
  },
  {
   "cell_type": "markdown",
   "id": "6d861601",
   "metadata": {},
   "source": [
    "## Random Forest"
   ]
  },
  {
   "cell_type": "code",
   "execution_count": 15,
   "id": "b791473f",
   "metadata": {},
   "outputs": [],
   "source": [
    "rf = RandomForestClassifier(n_estimators=100)"
   ]
  },
  {
   "cell_type": "code",
   "execution_count": 17,
   "id": "b6f8c939",
   "metadata": {},
   "outputs": [
    {
     "data": {
      "text/plain": [
       "RandomForestClassifier()"
      ]
     },
     "execution_count": 17,
     "metadata": {},
     "output_type": "execute_result"
    }
   ],
   "source": [
    "rf.fit(X_train,y_train)"
   ]
  },
  {
   "cell_type": "code",
   "execution_count": 18,
   "id": "b659a584",
   "metadata": {},
   "outputs": [],
   "source": [
    "y_pred = rf.predict(X_test)"
   ]
  },
  {
   "cell_type": "code",
   "execution_count": 19,
   "id": "ee73101f",
   "metadata": {},
   "outputs": [
    {
     "name": "stdout",
     "output_type": "stream",
     "text": [
      "              precision    recall  f1-score   support\n",
      "\n",
      "          No       0.81      0.90      0.85       505\n",
      "         Yes       0.65      0.45      0.53       200\n",
      "\n",
      "    accuracy                           0.77       705\n",
      "   macro avg       0.73      0.68      0.69       705\n",
      "weighted avg       0.76      0.77      0.76       705\n",
      "\n"
     ]
    }
   ],
   "source": [
    "print(classification_report(y_test, y_pred))"
   ]
  },
  {
   "cell_type": "code",
   "execution_count": 20,
   "id": "534d9077",
   "metadata": {},
   "outputs": [
    {
     "data": {
      "text/plain": [
       "<sklearn.metrics._plot.confusion_matrix.ConfusionMatrixDisplay at 0x27489081b80>"
      ]
     },
     "execution_count": 20,
     "metadata": {},
     "output_type": "execute_result"
    },
    {
     "data": {
      "image/png": "[encoded data removed]",
      "text/plain": [
       "<Figure size 432x288 with 2 Axes>"
      ]
     },
     "metadata": {
      "needs_background": "light"
     },
     "output_type": "display_data"
    }
   ],
   "source": [
    "plot_confusion_matrix(rf,X_test,y_test)"
   ]
  },
  {
   "cell_type": "markdown",
   "id": "e9780054",
   "metadata": {},
   "source": [
    "## Logistic Regresion"
   ]
  },
  {
   "cell_type": "code",
   "execution_count": 21,
   "id": "8a46769e",
   "metadata": {},
   "outputs": [
    {
     "data": {
      "text/plain": [
       "LogisticRegression(C=1, random_state=1, solver='liblinear')"
      ]
     },
     "execution_count": 21,
     "metadata": {},
     "output_type": "execute_result"
    }
   ],
   "source": [
    "logistic = LogisticRegression(solver='liblinear', penalty='l2', C= 1, random_state=1)\n",
    "logistic.fit(X_train, y_train)"
   ]
  },
  {
   "cell_type": "code",
   "execution_count": 22,
   "id": "33ec6c71",
   "metadata": {},
   "outputs": [],
   "source": [
    "y_pred = logistic.predict(X_test) "
   ]
  },
  {
   "cell_type": "code",
   "execution_count": 24,
   "id": "edde33fa",
   "metadata": {},
   "outputs": [
    {
     "name": "stdout",
     "output_type": "stream",
     "text": [
      "Classification Report\n",
      "              precision    recall  f1-score   support\n",
      "\n",
      "          No       0.82      0.89      0.85       505\n",
      "         Yes       0.64      0.53      0.58       200\n",
      "\n",
      "    accuracy                           0.78       705\n",
      "   macro avg       0.73      0.71      0.72       705\n",
      "weighted avg       0.77      0.78      0.78       705\n",
      "\n"
     ]
    }
   ],
   "source": [
    "print('Classification Report')\n",
    "print(classification_report(y_test, y_pred))"
   ]
  },
  {
   "cell_type": "code",
   "execution_count": 23,
   "id": "4671226d",
   "metadata": {},
   "outputs": [
    {
     "data": {
      "text/plain": [
       "<sklearn.metrics._plot.confusion_matrix.ConfusionMatrixDisplay at 0x27488a321c0>"
      ]
     },
     "execution_count": 23,
     "metadata": {},
     "output_type": "execute_result"
    },
    {
     "data": {
      "image/png": "[encoded data removed]",
      "text/plain": [
       "<Figure size 432x288 with 2 Axes>"
      ]
     },
     "metadata": {
      "needs_background": "light"
     },
     "output_type": "display_data"
    }
   ],
   "source": [
    "plot_confusion_matrix(logistic,X_test,y_test)"
   ]
  },
  {
   "cell_type": "code",
   "execution_count": 37,
   "id": "b63c48bc",
   "metadata": {},
   "outputs": [],
   "source": [
    "X = df.drop(['LoyaltyID','Customer ID','Churn',],axis=1)\n",
    "X = pd.get_dummies(X,drop_first=True)"
   ]
  },
  {
   "cell_type": "code",
   "execution_count": 38,
   "id": "4ed754b0",
   "metadata": {},
   "outputs": [],
   "source": [
    "#X = X.fillna(X.mean())"
   ]
  },
  {
   "cell_type": "code",
   "execution_count": 39,
   "id": "cfc6f601",
   "metadata": {},
   "outputs": [
    {
     "data": {
      "text/plain": [
       "array([0, 0, 1, ..., 0, 1, 0])"
      ]
     },
     "execution_count": 39,
     "metadata": {},
     "output_type": "execute_result"
    }
   ],
   "source": [
    "y = df['Churn']\n",
    "class_le = LabelEncoder()\n",
    "y = class_le.fit_transform(y)\n",
    "y"
   ]
  },
  {
   "cell_type": "code",
   "execution_count": 40,
   "id": "18e4f367",
   "metadata": {},
   "outputs": [
    {
     "name": "stdout",
     "output_type": "stream",
     "text": [
      "Optimization terminated successfully.\n",
      "         Current function value: 0.413772\n",
      "         Iterations 9\n"
     ]
    },
    {
     "data": {
      "text/html": [
       "<table class=\"simpletable\">\n",
       "<caption>Logit Regression Results</caption>\n",
       "<tr>\n",
       "  <th>Dep. Variable:</th>           <td>y</td>        <th>  No. Observations:  </th>  <td>  7043</td> \n",
       "</tr>\n",
       "<tr>\n",
       "  <th>Model:</th>                 <td>Logit</td>      <th>  Df Residuals:      </th>  <td>  7020</td> \n",
       "</tr>\n",
       "<tr>\n",
       "  <th>Method:</th>                 <td>MLE</td>       <th>  Df Model:          </th>  <td>    22</td> \n",
       "</tr>\n",
       "<tr>\n",
       "  <th>Date:</th>            <td>Thu, 31 Mar 2022</td> <th>  Pseudo R-squ.:     </th>  <td>0.2849</td> \n",
       "</tr>\n",
       "<tr>\n",
       "  <th>Time:</th>                <td>21:24:02</td>     <th>  Log-Likelihood:    </th> <td> -2914.2</td>\n",
       "</tr>\n",
       "<tr>\n",
       "  <th>converged:</th>             <td>True</td>       <th>  LL-Null:           </th> <td> -4075.1</td>\n",
       "</tr>\n",
       "<tr>\n",
       "  <th>Covariance Type:</th>     <td>nonrobust</td>    <th>  LLR p-value:       </th>  <td> 0.000</td> \n",
       "</tr>\n",
       "</table>\n",
       "<table class=\"simpletable\">\n",
       "<tr>\n",
       "                     <td></td>                       <th>coef</th>     <th>std err</th>      <th>z</th>      <th>P>|z|</th>  <th>[0.025</th>    <th>0.975]</th>  \n",
       "</tr>\n",
       "<tr>\n",
       "  <th>Tenure</th>                                 <td>   -0.0603</td> <td>    0.006</td> <td>   -9.677</td> <td> 0.000</td> <td>   -0.073</td> <td>   -0.048</td>\n",
       "</tr>\n",
       "<tr>\n",
       "  <th>Monthly Charges</th>                        <td>   -0.0407</td> <td>    0.032</td> <td>   -1.284</td> <td> 0.199</td> <td>   -0.103</td> <td>    0.021</td>\n",
       "</tr>\n",
       "<tr>\n",
       "  <th>Total Charges</th>                          <td>    0.0003</td> <td> 7.07e-05</td> <td>    4.644</td> <td> 0.000</td> <td>    0.000</td> <td>    0.000</td>\n",
       "</tr>\n",
       "<tr>\n",
       "  <th>Senior Citizen_Yes</th>                     <td>    0.2157</td> <td>    0.085</td> <td>    2.552</td> <td> 0.011</td> <td>    0.050</td> <td>    0.381</td>\n",
       "</tr>\n",
       "<tr>\n",
       "  <th>Partner_Yes</th>                            <td>   -0.0023</td> <td>    0.078</td> <td>   -0.030</td> <td> 0.976</td> <td>   -0.155</td> <td>    0.150</td>\n",
       "</tr>\n",
       "<tr>\n",
       "  <th>Dependents_Yes</th>                         <td>   -0.1518</td> <td>    0.090</td> <td>   -1.692</td> <td> 0.091</td> <td>   -0.328</td> <td>    0.024</td>\n",
       "</tr>\n",
       "<tr>\n",
       "  <th>Phone Service_Yes</th>                      <td>    0.5082</td> <td> 3.27e+06</td> <td> 1.55e-07</td> <td> 1.000</td> <td>-6.41e+06</td> <td> 6.41e+06</td>\n",
       "</tr>\n",
       "<tr>\n",
       "  <th>Multiple Lines_No phone service</th>        <td>    0.3266</td> <td> 3.27e+06</td> <td> 9.98e-08</td> <td> 1.000</td> <td>-6.41e+06</td> <td> 6.41e+06</td>\n",
       "</tr>\n",
       "<tr>\n",
       "  <th>Multiple Lines_Yes</th>                     <td>    0.4482</td> <td>    0.177</td> <td>    2.531</td> <td> 0.011</td> <td>    0.101</td> <td>    0.795</td>\n",
       "</tr>\n",
       "<tr>\n",
       "  <th>Internet Service_Fiber optic</th>           <td>    1.7581</td> <td>    0.797</td> <td>    2.205</td> <td> 0.027</td> <td>    0.195</td> <td>    3.321</td>\n",
       "</tr>\n",
       "<tr>\n",
       "  <th>Internet Service_No</th>                    <td>   -0.2569</td> <td> 1.76e+07</td> <td>-1.46e-08</td> <td> 1.000</td> <td>-3.45e+07</td> <td> 3.45e+07</td>\n",
       "</tr>\n",
       "<tr>\n",
       "  <th>Online Security_No internet service</th>    <td>   -0.2569</td> <td>      nan</td> <td>      nan</td> <td>   nan</td> <td>      nan</td> <td>      nan</td>\n",
       "</tr>\n",
       "<tr>\n",
       "  <th>Online Security_Yes</th>                    <td>   -0.2037</td> <td>    0.179</td> <td>   -1.141</td> <td> 0.254</td> <td>   -0.554</td> <td>    0.146</td>\n",
       "</tr>\n",
       "<tr>\n",
       "  <th>Online Backup_No internet service</th>      <td>   -0.2569</td> <td> 1.76e+07</td> <td>-1.46e-08</td> <td> 1.000</td> <td>-3.45e+07</td> <td> 3.45e+07</td>\n",
       "</tr>\n",
       "<tr>\n",
       "  <th>Online Backup_Yes</th>                      <td>    0.0271</td> <td>    0.175</td> <td>    0.155</td> <td> 0.877</td> <td>   -0.316</td> <td>    0.370</td>\n",
       "</tr>\n",
       "<tr>\n",
       "  <th>Device Protection_No internet service</th>  <td>   -0.2569</td> <td> 1.76e+07</td> <td>-1.46e-08</td> <td> 1.000</td> <td>-3.45e+07</td> <td> 3.45e+07</td>\n",
       "</tr>\n",
       "<tr>\n",
       "  <th>Device Protection_Yes</th>                  <td>    0.1485</td> <td>    0.176</td> <td>    0.842</td> <td> 0.400</td> <td>   -0.197</td> <td>    0.494</td>\n",
       "</tr>\n",
       "<tr>\n",
       "  <th>Tech Support_No internet service</th>       <td>   -0.2569</td> <td> 1.76e+07</td> <td>-1.46e-08</td> <td> 1.000</td> <td>-3.45e+07</td> <td> 3.45e+07</td>\n",
       "</tr>\n",
       "<tr>\n",
       "  <th>Tech Support_Yes</th>                       <td>   -0.1784</td> <td>    0.180</td> <td>   -0.989</td> <td> 0.323</td> <td>   -0.532</td> <td>    0.175</td>\n",
       "</tr>\n",
       "<tr>\n",
       "  <th>Streaming TV_No internet service</th>       <td>   -0.2569</td> <td> 1.76e+07</td> <td>-1.46e-08</td> <td> 1.000</td> <td>-3.45e+07</td> <td> 3.45e+07</td>\n",
       "</tr>\n",
       "<tr>\n",
       "  <th>Streaming TV_Yes</th>                       <td>    0.5933</td> <td>    0.326</td> <td>    1.820</td> <td> 0.069</td> <td>   -0.046</td> <td>    1.232</td>\n",
       "</tr>\n",
       "<tr>\n",
       "  <th>Streaming Movies_No internet service</th>   <td>   -0.2569</td> <td> 1.76e+07</td> <td>-1.46e-08</td> <td> 1.000</td> <td>-3.45e+07</td> <td> 3.45e+07</td>\n",
       "</tr>\n",
       "<tr>\n",
       "  <th>Streaming Movies_Yes</th>                   <td>    0.6048</td> <td>    0.326</td> <td>    1.853</td> <td> 0.064</td> <td>   -0.035</td> <td>    1.245</td>\n",
       "</tr>\n",
       "<tr>\n",
       "  <th>Contract_One year</th>                      <td>   -0.6649</td> <td>    0.108</td> <td>   -6.185</td> <td> 0.000</td> <td>   -0.876</td> <td>   -0.454</td>\n",
       "</tr>\n",
       "<tr>\n",
       "  <th>Contract_Two year</th>                      <td>   -1.3799</td> <td>    0.176</td> <td>   -7.847</td> <td> 0.000</td> <td>   -1.725</td> <td>   -1.035</td>\n",
       "</tr>\n",
       "<tr>\n",
       "  <th>Paperless Billing_Yes</th>                  <td>    0.3423</td> <td>    0.074</td> <td>    4.596</td> <td> 0.000</td> <td>    0.196</td> <td>    0.488</td>\n",
       "</tr>\n",
       "<tr>\n",
       "  <th>Payment Method_Credit card (automatic)</th> <td>   -0.0871</td> <td>    0.114</td> <td>   -0.763</td> <td> 0.445</td> <td>   -0.311</td> <td>    0.136</td>\n",
       "</tr>\n",
       "<tr>\n",
       "  <th>Payment Method_Electronic check</th>        <td>    0.3048</td> <td>    0.094</td> <td>    3.226</td> <td> 0.001</td> <td>    0.120</td> <td>    0.490</td>\n",
       "</tr>\n",
       "<tr>\n",
       "  <th>Payment Method_Mailed check</th>            <td>   -0.0588</td> <td>    0.115</td> <td>   -0.512</td> <td> 0.609</td> <td>   -0.284</td> <td>    0.166</td>\n",
       "</tr>\n",
       "<tr>\n",
       "  <th>intercept</th>                              <td>    0.8348</td> <td> 3.27e+06</td> <td> 2.55e-07</td> <td> 1.000</td> <td>-6.41e+06</td> <td> 6.41e+06</td>\n",
       "</tr>\n",
       "</table>"
      ],
      "text/plain": [
       "<class 'statsmodels.iolib.summary.Summary'>\n",
       "\"\"\"\n",
       "                           Logit Regression Results                           \n",
       "==============================================================================\n",
       "Dep. Variable:                      y   No. Observations:                 7043\n",
       "Model:                          Logit   Df Residuals:                     7020\n",
       "Method:                           MLE   Df Model:                           22\n",
       "Date:                Thu, 31 Mar 2022   Pseudo R-squ.:                  0.2849\n",
       "Time:                        21:24:02   Log-Likelihood:                -2914.2\n",
       "converged:                       True   LL-Null:                       -4075.1\n",
       "Covariance Type:            nonrobust   LLR p-value:                     0.000\n",
       "==========================================================================================================\n",
       "                                             coef    std err          z      P>|z|      [0.025      0.975]\n",
       "----------------------------------------------------------------------------------------------------------\n",
       "Tenure                                    -0.0603      0.006     -9.677      0.000      -0.073      -0.048\n",
       "Monthly Charges                           -0.0407      0.032     -1.284      0.199      -0.103       0.021\n",
       "Total Charges                              0.0003   7.07e-05      4.644      0.000       0.000       0.000\n",
       "Senior Citizen_Yes                         0.2157      0.085      2.552      0.011       0.050       0.381\n",
       "Partner_Yes                               -0.0023      0.078     -0.030      0.976      -0.155       0.150\n",
       "Dependents_Yes                            -0.1518      0.090     -1.692      0.091      -0.328       0.024\n",
       "Phone Service_Yes                          0.5082   3.27e+06   1.55e-07      1.000   -6.41e+06    6.41e+06\n",
       "Multiple Lines_No phone service            0.3266   3.27e+06   9.98e-08      1.000   -6.41e+06    6.41e+06\n",
       "Multiple Lines_Yes                         0.4482      0.177      2.531      0.011       0.101       0.795\n",
       "Internet Service_Fiber optic               1.7581      0.797      2.205      0.027       0.195       3.321\n",
       "Internet Service_No                       -0.2569   1.76e+07  -1.46e-08      1.000   -3.45e+07    3.45e+07\n",
       "Online Security_No internet service       -0.2569        nan        nan        nan         nan         nan\n",
       "Online Security_Yes                       -0.2037      0.179     -1.141      0.254      -0.554       0.146\n",
       "Online Backup_No internet service         -0.2569   1.76e+07  -1.46e-08      1.000   -3.45e+07    3.45e+07\n",
       "Online Backup_Yes                          0.0271      0.175      0.155      0.877      -0.316       0.370\n",
       "Device Protection_No internet service     -0.2569   1.76e+07  -1.46e-08      1.000   -3.45e+07    3.45e+07\n",
       "Device Protection_Yes                      0.1485      0.176      0.842      0.400      -0.197       0.494\n",
       "Tech Support_No internet service          -0.2569   1.76e+07  -1.46e-08      1.000   -3.45e+07    3.45e+07\n",
       "Tech Support_Yes                          -0.1784      0.180     -0.989      0.323      -0.532       0.175\n",
       "Streaming TV_No internet service          -0.2569   1.76e+07  -1.46e-08      1.000   -3.45e+07    3.45e+07\n",
       "Streaming TV_Yes                           0.5933      0.326      1.820      0.069      -0.046       1.232\n",
       "Streaming Movies_No internet service      -0.2569   1.76e+07  -1.46e-08      1.000   -3.45e+07    3.45e+07\n",
       "Streaming Movies_Yes                       0.6048      0.326      1.853      0.064      -0.035       1.245\n",
       "Contract_One year                         -0.6649      0.108     -6.185      0.000      -0.876      -0.454\n",
       "Contract_Two year                         -1.3799      0.176     -7.847      0.000      -1.725      -1.035\n",
       "Paperless Billing_Yes                      0.3423      0.074      4.596      0.000       0.196       0.488\n",
       "Payment Method_Credit card (automatic)    -0.0871      0.114     -0.763      0.445      -0.311       0.136\n",
       "Payment Method_Electronic check            0.3048      0.094      3.226      0.001       0.120       0.490\n",
       "Payment Method_Mailed check               -0.0588      0.115     -0.512      0.609      -0.284       0.166\n",
       "intercept                                  0.8348   3.27e+06   2.55e-07      1.000   -6.41e+06    6.41e+06\n",
       "==========================================================================================================\n",
       "\"\"\""
      ]
     },
     "execution_count": 40,
     "metadata": {},
     "output_type": "execute_result"
    }
   ],
   "source": [
    "X['intercept'] = 1\n",
    "logistic_ml = sm.Logit(y, X)\n",
    "logistic_coef = logistic_ml.fit()\n",
    "logistic_coef.summary()"
   ]
  },
  {
   "cell_type": "code",
   "execution_count": null,
   "id": "09d8a11b",
   "metadata": {},
   "outputs": [],
   "source": []
  }
 ],
 "metadata": {
  "kernelspec": {
   "display_name": "Python 3 (ipykernel)",
   "language": "python",
   "name": "python3"
  },
  "language_info": {
   "codemirror_mode": {
    "name": "ipython",
    "version": 3
   },
   "file_extension": ".py",
   "mimetype": "text/x-python",
   "name": "python",
   "nbconvert_exporter": "python",
   "pygments_lexer": "ipython3",
   "version": "3.9.7"
  }
 },
 "nbformat": 4,
 "nbformat_minor": 5
}
